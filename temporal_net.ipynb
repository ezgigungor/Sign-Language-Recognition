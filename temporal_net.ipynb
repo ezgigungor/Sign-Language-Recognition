{
  "nbformat": 4,
  "nbformat_minor": 0,
  "metadata": {
    "colab": {
      "name": "temporal_net.ipynb",
      "provenance": [],
      "collapsed_sections": []
    },
    "kernelspec": {
      "name": "python3",
      "display_name": "Python 3"
    }
  },
  "cells": [
    {
      "cell_type": "code",
      "metadata": {
        "id": "r0oU62V75siJ",
        "outputId": "c72ab02a-2a38-4e1e-ddea-a2383c301aaf",
        "colab": {
          "base_uri": "https://localhost:8080/",
          "height": 34
        }
      },
      "source": [
        "import torch\n",
        "import torch.nn as nn\n",
        "import torch.optim as optim\n",
        "from torch.optim import lr_scheduler\n",
        "from torch.utils.data import Dataset, dataset, random_split\n",
        "import numpy as np\n",
        "import torchvision\n",
        "from torchvision import datasets, models, transforms\n",
        "import matplotlib.pyplot as plt\n",
        "import time\n",
        "import os\n",
        "import copy\n",
        "import cv2\n",
        "import itertools\n",
        "import pandas as pd\n",
        "from sklearn.metrics import confusion_matrix\n",
        "from sklearn.model_selection import train_test_split\n",
        "from google.colab.patches import cv2_imshow\n",
        "import collections\n",
        "from PIL import ImageFile\n",
        "import torch.nn.functional as F\n",
        "from os import listdir\n",
        "from os.path import isfile, join\n",
        "\n",
        "\n",
        "from google.colab import drive\n",
        "drive.mount('/content/drive')"
      ],
      "execution_count": null,
      "outputs": [
        {
          "output_type": "stream",
          "text": [
            "Drive already mounted at /content/drive; to attempt to forcibly remount, call drive.mount(\"/content/drive\", force_remount=True).\n"
          ],
          "name": "stdout"
        }
      ]
    },
    {
      "cell_type": "code",
      "metadata": {
        "id": "DYI1JuonVUXQ"
      },
      "source": [
        "classes = 'drive/My Drive/MS-ASL/MSASL_classes.json'\n",
        "train_json = 'drive/My Drive/MS-ASL/MSASL_train.json'\n",
        "test_json = 'drive/My Drive/MS-ASL/MSASL_test.json'\n",
        "val_json = 'drive/My Drive/MS-ASL/MSASL_val.json'\n",
        "train_videos = 'drive/My Drive/HW4_DATA/videos/train/'\n",
        "val_videos = 'drive/My Drive/HW4_DATA/videos/val/'\n",
        "test_videos = 'drive/My Drive/HW4_DATA/videos/test/'"
      ],
      "execution_count": null,
      "outputs": []
    },
    {
      "cell_type": "code",
      "metadata": {
        "id": "nyTAkamahfqJ"
      },
      "source": [
        "classes = {'hello' : 0, 'nice' :1, 'teacher':2,  'eat':3 , 'no':4, 'happy':5, 'like':6, 'orange':7, 'want' :8, 'deaf':9}"
      ],
      "execution_count": null,
      "outputs": []
    },
    {
      "cell_type": "code",
      "metadata": {
        "id": "kTzxFJU2hi_E"
      },
      "source": [
        "def load_data(path,is_test):\n",
        "  df = pd.read_json(path)\n",
        "  for value in df['clean_text'].values:\n",
        "    if value not in classes.keys():\n",
        "      df.drop(df[df['clean_text']== value].index, inplace = True)\n",
        "  df['url'] = df['url'].apply(lambda x : 'w' + x.lstrip('https://www.youtube.com'))\n",
        "  \n",
        "  return df"
      ],
      "execution_count": null,
      "outputs": []
    },
    {
      "cell_type": "code",
      "metadata": {
        "id": "5bcpohNChplT"
      },
      "source": [
        "def clean_data(path, df):\n",
        "  files = [os.path.splitext(f)[0] for f in listdir(path) if isfile(join(path, f))]\n",
        "  with_ext = [f for f in listdir(path) if isfile(join(path, f))]\n",
        "  org_values = df['url'].values\n",
        "  for value in df['url'].values:\n",
        "    if value not in files:\n",
        "      df.drop(df[df['url']== value].index, inplace = True) \n",
        "  \n",
        "\n",
        "  for i in range(0, df.shape[0]):\n",
        "    if df.iloc[i,12] in files:\n",
        "      index = files.index(df.iloc[i,12])\n",
        "      df = df.replace(df.iloc[i,12], with_ext[index])\n",
        " \n",
        "  return df"
      ],
      "execution_count": null,
      "outputs": []
    },
    {
      "cell_type": "code",
      "metadata": {
        "id": "_Faa7KA8hqgz"
      },
      "source": [
        "train_df = load_data(train_json, False)\n",
        "train_df = clean_data(train_videos, train_df)\n",
        "val_df = load_data(val_json, False)\n",
        "val_df = clean_data(val_videos, val_df)\n",
        "test_df = load_data(test_json, True)\n",
        "test_df = clean_data(test_videos, test_df)"
      ],
      "execution_count": null,
      "outputs": []
    },
    {
      "cell_type": "code",
      "metadata": {
        "id": "uEtTGTIpPt6p"
      },
      "source": [
        "def extract_flows(source, dest, df):\n",
        "  files = [f for f in listdir(source) if isfile(join(source, f))]\n",
        "  for i in range(0, df.shape[0]):\n",
        "    start_frame = df.iloc[i][5]\n",
        "    video = cv2.VideoCapture(source + df.iloc[i][12]) \n",
        "    file_path = dest  + df.iloc[i][12] + '_' + df.iloc[i][1]\n",
        "    video.set(cv2.CAP_PROP_POS_FRAMES, start_frame)\n",
        "    ret, first_frame = video.read()\n",
        "\n",
        "    first_frame= cv2.resize(first_frame, (224,224), interpolation = cv2.INTER_AREA)\n",
        "    mask = np.zeros_like(first_frame)\n",
        "    mask[..., 1] = 255\n",
        "\n",
        "\n",
        "    prev = cv2.cvtColor(first_frame, cv2.COLOR_BGR2GRAY)\n",
        "    flows = prev\n",
        "\n",
        "    for j in range(start_frame+1, start_frame+10):     \n",
        "      if(ret):\n",
        "        video.set(cv2.CAP_PROP_POS_FRAMES, j)\n",
        "        ret, frame = video.read()\n",
        "        gray = cv2.cvtColor(frame, cv2.COLOR_BGR2GRAY)\n",
        "        current = cv2.resize(gray, (224,224), interpolation = cv2.INTER_AREA)\n",
        "        flow = cv2.calcOpticalFlowFarneback(prev, current, None, pyr_scale = 0.5, levels = 5, winsize = 11, iterations = 5, poly_n = 5, poly_sigma = 1.1, flags = 0)\n",
        "        \n",
        "        magnitude, angle = cv2.cartToPolar(flow[..., 0], flow[..., 1])\n",
        "        \n",
        "        mask[..., 0] = angle * 180 / np.pi / 2\n",
        "      \n",
        "        mask[..., 2] = cv2.normalize(magnitude, None, 0, 255, cv2.NORM_MINMAX)\n",
        "\n",
        "        rgb = cv2.cvtColor(mask, cv2.COLOR_HSV2BGR)\n",
        "        flow_image = cv2.cvtColor(rgb, cv2.COLOR_BGR2GRAY)\n",
        "        flows = np.dstack((flows, flow_image))\n",
        "        prev = current\n",
        "      else:\n",
        "        print(df.iloc[i][12], j)\n",
        "    np.save(file_path, flows)"
      ],
      "execution_count": null,
      "outputs": []
    },
    {
      "cell_type": "code",
      "metadata": {
        "id": "VEezUtVFSfm7",
        "outputId": "ca3bda6e-79a3-4603-ee58-6516d082111f",
        "colab": {
          "base_uri": "https://localhost:8080/",
          "height": 286
        }
      },
      "source": [
        "video = cv2.VideoCapture(train_videos + train_df.iloc[23][12])\n",
        "start_frame = train_df.iloc[23][5]\n",
        "video.set(cv2.CAP_PROP_POS_FRAMES, start_frame)\n",
        "ret, first_frame = video.read()\n",
        "first_frame =  cv2.resize(first_frame, (224,224), interpolation = cv2.INTER_AREA)\n",
        "mask = np.zeros_like(first_frame)\n",
        "mask[..., 1] = 255\n",
        "prev = cv2.cvtColor(first_frame, cv2.COLOR_BGR2GRAY)\n",
        "video.set(cv2.CAP_PROP_POS_FRAMES, start_frame+1)\n",
        "ret, current = video.read()\n",
        "current = cv2.cvtColor(current, cv2.COLOR_BGR2GRAY)\n",
        "current= cv2.resize(current, (224,224), interpolation = cv2.INTER_AREA)\n",
        "\n",
        "flow = cv2.calcOpticalFlowFarneback(prev, current, None, pyr_scale = 0.5, levels = 5, winsize = 11, iterations = 5, poly_n = 5, poly_sigma = 1.1, flags = 0)\n",
        "\n",
        "magnitude, angle = cv2.cartToPolar(flow[..., 0], flow[..., 1])\n",
        "\n",
        "mask[..., 0] = angle * 180 / np.pi / 2\n",
        "\n",
        "mask[..., 2] = cv2.normalize(magnitude, None, 0, 255, cv2.NORM_MINMAX)\n",
        "\n",
        "rgb = cv2.cvtColor(mask, cv2.COLOR_HSV2BGR)\n",
        "flow_image = cv2.cvtColor(rgb, cv2.COLOR_BGR2GRAY)\n",
        "plt.imshow(flow_image)"
      ],
      "execution_count": null,
      "outputs": [
        {
          "output_type": "execute_result",
          "data": {
            "text/plain": [
              "<matplotlib.image.AxesImage at 0x7f36894a7b00>"
            ]
          },
          "metadata": {
            "tags": []
          },
          "execution_count": 8
        },
        {
          "output_type": "display_data",
          "data": {
            "image/png": "[encoded data removed]",
            "text/plain": [
              "<Figure size 432x288 with 1 Axes>"
            ]
          },
          "metadata": {
            "tags": [],
            "needs_background": "light"
          }
        }
      ]
    },
    {
      "cell_type": "code",
      "metadata": {
        "id": "MM7rMwEASfrq"
      },
      "source": [
        "# extract_flows(train_videos, 'drive/My Drive/flows/train/', train_df)\n",
        "# extract_flows(val_videos, 'drive/My Drive/flows/val/', val_df)\n",
        "# extract_flows(test_videos, 'drive/My Drive/flows/test/', test_df)"
      ],
      "execution_count": null,
      "outputs": []
    },
    {
      "cell_type": "code",
      "metadata": {
        "id": "Sw3RpTzHhtcd"
      },
      "source": [
        "class TemporalDataset(datasets.ImageFolder):\n",
        "\n",
        "  def __init__(self,path,df, classes, transform):\n",
        "    self.path = path\n",
        "    self.df = df\n",
        "    self.transform = transform\n",
        "    self.classes = classes\n",
        "\n",
        "  def __len__(self):\n",
        "    return len(self.df)\n",
        "\n",
        "  def __getitem__(self, idx):\n",
        "\n",
        "    # if torch.is_tensor(idx):\n",
        "    #   idx = idx.tolist()\n",
        "\n",
        "    path =  self.path + self.df.iloc[idx][12] + '_' +  self.df.iloc[idx][1] + \".npy\"\n",
        "\n",
        "    flow = np.load(path)\n",
        "    flow = np.transpose(flow)\n",
        "    # print(flow.shape)\n",
        "\n",
        "\n",
        "    label = self.classes[self.df.iloc[idx][1]]\n",
        "\n",
        "    return  (flow, label) "
      ],
      "execution_count": null,
      "outputs": []
    },
    {
      "cell_type": "code",
      "metadata": {
        "id": "KsoYdaC8hte4"
      },
      "source": [
        "transform = transforms.Compose([\n",
        "  \n",
        "  transforms.ToTensor(),\n",
        "                         \n",
        "])\n",
        "\n"
      ],
      "execution_count": null,
      "outputs": []
    },
    {
      "cell_type": "code",
      "metadata": {
        "id": "_YTEt9HLhthb"
      },
      "source": [
        "def getdataloader_sizes(batchsize): \n",
        "  train =  TemporalDataset( path = 'drive/My Drive/flows/train/', df = train_df, classes = classes, transform = transform)\n",
        "  validation = TemporalDataset( path = 'drive/My Drive/flows/val/', df = val_df,  classes = classes, transform = transform)\n",
        "  test = TemporalDataset( path = 'drive/My Drive/flows/test/', df = test_df,  classes = classes, transform = transform)\n",
        "\n",
        "  \n",
        "  all_datasets = {'train' : train, 'validation' : validation, 'test' : test}\n",
        "\n",
        "  dataloaders = {x: torch.utils.data.DataLoader(all_datasets[x], batch_size=batchsize,\n",
        "                                               shuffle=True)\n",
        "                for x in ['train', 'validation' ,'test']}\n",
        "  dataset_sizes = {x: len(all_datasets[x]) for x in ['train', 'validation','test']}\n",
        "\n",
        "  class_names = list(classes.keys())\n",
        "  print(class_names)\n",
        "  print(dataset_sizes)\n",
        "  return dataloaders,dataset_sizes,class_names"
      ],
      "execution_count": null,
      "outputs": []
    },
    {
      "cell_type": "code",
      "metadata": {
        "id": "SBOWlA7ohtju"
      },
      "source": [
        "def plot_confusion_matrix(cm, classes,\n",
        "                          cmap=plt.cm.Blues):\n",
        "  \n",
        "    plt.imshow(cm, interpolation='nearest', cmap=cmap)\n",
        "    plt.colorbar()\n",
        "    tick_marks = np.arange(len(classes))\n",
        "    plt.xticks(tick_marks, classes, rotation=45)\n",
        "    plt.yticks(tick_marks, classes)\n",
        "    \n",
        "    threshold = cm.max() / 2.\n",
        "    for i, j in itertools.product(range(cm.shape[0]), range(cm.shape[1])):\n",
        "        plt.text(j, i, format(cm[i, j]),horizontalalignment=\"center\",color=\"white\" if cm[i, j] > threshold else \"black\")\n",
        "\n",
        "    plt.ylabel('True label')\n",
        "    plt.xlabel('Predicted label')"
      ],
      "execution_count": null,
      "outputs": []
    },
    {
      "cell_type": "code",
      "metadata": {
        "id": "81MVBiQ7htmR",
        "outputId": "32ca1807-b7af-4dfc-9314-eaf610cb3ec8",
        "colab": {
          "base_uri": "https://localhost:8080/",
          "height": 34
        }
      },
      "source": [
        "device = \"cuda:0\" if torch.cuda.is_available() else \"cpu\"\n",
        "print(device)"
      ],
      "execution_count": null,
      "outputs": [
        {
          "output_type": "stream",
          "text": [
            "cpu\n"
          ],
          "name": "stdout"
        }
      ]
    },
    {
      "cell_type": "code",
      "metadata": {
        "id": "ufqbu5qihtoZ"
      },
      "source": [
        "def plot_graph(plotlist1,plotlist2,ylabel):\n",
        "   \n",
        "    plt.xlabel(\"Training Epochs\")\n",
        "    plt.ylabel(ylabel)\n",
        "    plt.plot(plotlist1, color=\"green\")\n",
        "    plt.plot(plotlist2, color=\"yellow\")\n",
        "    \n",
        "    plt.gca().legend(('Train', 'Validation'))\n",
        "    plt.show()"
      ],
      "execution_count": null,
      "outputs": []
    },
    {
      "cell_type": "code",
      "metadata": {
        "id": "ee53tcNthtqq"
      },
      "source": [
        "def train_model(model, criterion, optimizer, epoch_number,device,earlystopping):\n",
        "   \n",
        "    model.to(device)\n",
        "    best_model_wts = copy.deepcopy(model.state_dict())\n",
        "    best_train_acc = 0.0\n",
        "    best_val_acc = 0.0\n",
        "    best_test_acc = 0.0\n",
        "    train_acc_history = list()\n",
        "    train_loss_history =list()\n",
        "    val_acc_history = list()\n",
        "    val_loss_history =list()\n",
        "    \n",
        "    counter = 0\n",
        "    stop =False\n",
        "    best_loss = None\n",
        "    \n",
        "   \n",
        "    n_epochs_stop = 1\n",
        "    min_val_loss = np.Inf\n",
        "    epochs_no_improve = 0\n",
        "    \n",
        "    for epoch in range(epoch_number):\n",
        "        if stop:\n",
        "          break\n",
        "        print('Epoch {}/{}'.format(epoch, epoch_number - 1))\n",
        "        \n",
        "        # Train and validation for each epoch\n",
        "        for part in ['train', 'validation']:\n",
        "            if part == 'train':\n",
        "                \n",
        "                model.train()  \n",
        "            else:\n",
        "                model.eval()  \n",
        "\n",
        "            current_loss = 0.0\n",
        "            current_phase_correct_outputnumber = 0\n",
        "            # For each phase in datasets are iterated\n",
        "            for inputs, labels in dataloaders[part]:\n",
        "                inputs = inputs.to(device)\n",
        "                labels = labels.to(device)\n",
        "                # zero the parameter gradients\n",
        "                optimizer.zero_grad()\n",
        "                # forward\n",
        "                with torch.set_grad_enabled(part == 'train'):\n",
        "                    outputs = model(inputs)\n",
        "                    _, preds = torch.max(outputs, 1)\n",
        "                    loss = criterion(outputs, labels)\n",
        "                    # Backpropagate and opitimize Training part\n",
        "                    if part == 'train':\n",
        "                        loss.backward()\n",
        "                        optimizer.step()\n",
        "\n",
        "                # statistics\n",
        "                current_loss += loss.item() * inputs.size(0)\n",
        "                current_phase_correct_outputnumber += torch.sum(preds == labels.data)\n",
        "\n",
        "            current_loss = current_loss / dataset_sizes[part]\n",
        "            epoch_acc = 100*current_phase_correct_outputnumber.double() / dataset_sizes[part]\n",
        "\n",
        "            if part == 'validation':\n",
        "                val_acc_history.append(epoch_acc)\n",
        "                val_loss_history.append(current_loss)\n",
        "                if earlystopping:\n",
        "                  # If the validation loss is at a minimum\n",
        "                  if current_loss < min_val_loss:\n",
        "                    # Save the model\n",
        "                    epochs_no_improve = 0\n",
        "                    min_val_loss = current_loss\n",
        "\n",
        "                  else:\n",
        "                    epochs_no_improve += 1\n",
        "                    # Check early stopping condition\n",
        "                    if epochs_no_improve == n_epochs_stop:\n",
        "                      print('Early stopping!')\n",
        "                      \n",
        "                      #Printed best accuracies\n",
        "                      print('Best train Acc: {:4f}'.format(best_train_acc))\n",
        "                      print('Best validation Acc: {:4f}'.format(best_val_acc))\n",
        "\n",
        "                      print()\n",
        "\n",
        "                      #Printed best accuracies\n",
        "                      print('Best train Acc: {:4f}'.format(best_train_acc))\n",
        "                      print('Best validation Acc: {:4f}'.format(best_val_acc))\n",
        "\n",
        "                      # load best model weights\n",
        "                      model.load_state_dict(best_model_wts)\n",
        "                      #Plot accuracy graph \n",
        "                      plot_graph(train_acc_history,val_acc_history,\"Accuracy\")\n",
        "                      plot_graph(train_loss_history,val_loss_history,\"Loss\")\n",
        "                      \n",
        "                      return model                  \n",
        "            else:\n",
        "                train_acc_history.append(epoch_acc)\n",
        "                train_loss_history.append(current_loss)\n",
        "\n",
        "            print('{} Loss: {:.4f} Acc: {:.4f}'.format(\n",
        "                part, current_loss, epoch_acc))\n",
        "\n",
        "            # deep copy the model\n",
        "            if part == 'train' and epoch_acc > best_train_acc:\n",
        "                  best_train_acc = epoch_acc\n",
        "                \n",
        "            if part == 'validation' and epoch_acc > best_val_acc:             \n",
        "                best_val_acc = epoch_acc\n",
        "                best_model_wts = copy.deepcopy(model.state_dict())\n",
        "              \n",
        "        print() \n",
        "    \n",
        "              \n",
        "    print('Best train Acc: {:4f}'.format(best_train_acc))\n",
        "    print('Best validation Acc: {:4f}'.format(best_val_acc))\n",
        "    \n",
        "  \n",
        "    model.load_state_dict(best_model_wts)\n",
        "   \n",
        "    plot_graph(train_acc_history,val_acc_history,\"Accuracy\")\n",
        "    plot_graph(train_loss_history,val_loss_history,\"Loss\")\n",
        "  \n",
        "    return model"
      ],
      "execution_count": null,
      "outputs": []
    },
    {
      "cell_type": "code",
      "metadata": {
        "id": "XJs-8a68hts6"
      },
      "source": [
        "class TemporalSimpleNet(nn.Module):\n",
        "\n",
        "  def __init__(self):\n",
        "    super(TemporalSimpleNet, self).__init__()\n",
        "\n",
        "    self.conv1 = torch.nn.Conv2d(10, 18, kernel_size = 3, stride = 1, padding = 1)\n",
        "    self.pool = torch.nn.MaxPool2d(kernel_size = 2, stride = 2, padding = 0)\n",
        "    \n",
        "    self.fc1 = torch.nn.Linear(18 * 112 * 112, 64)\n",
        "    \n",
        "    self.fc2 = torch.nn.Linear(64, 10)\n",
        "\n",
        "\n",
        "  \n",
        "  def forward(self, x):\n",
        "    x = self.conv1(x)\n",
        "    x = F.relu(x)\n",
        "    x = self.pool(x)\n",
        "    x = x.view(-1, 18 * 112 *112)\n",
        "    x = self.fc1(x)\n",
        "    x = F.relu(x)\n",
        "    x = self.fc2(x)\n",
        "    return(x)\n",
        "\n",
        "class TemporalNet(nn.Module):\n",
        "  def __init__(self):\n",
        "      super(TemporalNet, self).__init__()\n",
        "      \n",
        "      self.conv1 = nn.Conv2d(10, 96, 7, 2)\n",
        "      self.relu1 = nn.ReLU()\n",
        "      self.pool1 = nn.MaxPool2d(3, 2)\n",
        "      self.norm1 = nn.LocalResponseNorm(2)\n",
        "      self.conv2 = nn.Conv2d(96, 256, 5, 2)\n",
        "      self.relu2 = nn.ReLU()\n",
        "      self.pool2 = nn.MaxPool2d(3, 2)\n",
        "      self.norm2 = nn.LocalResponseNorm(2)\n",
        "      self.conv3 = nn.Conv2d(256, 512,3)\n",
        "      self.relu3 = nn.ReLU()\n",
        "      self.conv4 = nn.Conv2d(512, 512, 3)\n",
        "      self.relu4= nn.ReLU()\n",
        "      self.conv5 = nn.Conv2d(512, 512, 3)           \n",
        "      self.relu5 = nn.ReLU()\n",
        "      self.pool3 =nn.MaxPool2d(3, 2)\n",
        "  \n",
        "\n",
        "  \n",
        "      self.l1 = nn.Linear(2048, 4096)\n",
        "      self.drop1 = nn.Dropout()\n",
        "      self.l2 = nn.Linear(4096, 2048)\n",
        "      self.drop2 = nn.Dropout()\n",
        "      self.l3 =nn.Linear(2048, 10)\n",
        "        \n",
        "      \n",
        "      \n",
        "\n",
        "  def forward(self, x):\n",
        "      x = self.conv1(x.float())\n",
        "      x = self.relu1(x)\n",
        "      x = self.pool1(x)\n",
        "      x = self.norm1(x)\n",
        "\n",
        "      x = self.conv2(x)\n",
        "      x = self.relu2(x)\n",
        "      x = self.pool2(x)\n",
        "      x = self.norm2(x)\n",
        "\n",
        "      x = self.conv3(x)\n",
        "      x = self.relu3(x)\n",
        "\n",
        "      x = self.conv4(x)\n",
        "      x = self.relu4(x)\n",
        "\n",
        "\n",
        "      x = self.conv5(x)\n",
        "      x = self.relu5(x)\n",
        "      x = self.pool3(x)\n",
        "\n",
        "      x = x.view(x.size(0), -1)\n",
        "      x = self.l1(x)\n",
        "      x = self.drop1(x)\n",
        "      x = self.l2(x)\n",
        "      x = self.drop2(x)\n",
        "      x = self.l3(x)\n",
        "\n",
        "      return x\n",
        "\n",
        "net = TemporalNet()\n",
        "simple_net = TemporalSimpleNet()"
      ],
      "execution_count": null,
      "outputs": []
    },
    {
      "cell_type": "code",
      "metadata": {
        "id": "SK28IXBnhtvf",
        "outputId": "5ce73bb1-2cce-4d1d-c8f0-edacf93dfdda",
        "colab": {
          "base_uri": "https://localhost:8080/",
          "height": 1000
        }
      },
      "source": [
        "ImageFile.LOAD_TRUNCATED_IMAGES = True \n",
        "\n",
        "trainingmodel = simple_net\n",
        "\n",
        "\n",
        "\n",
        "\n",
        "#initializing parameters\n",
        "learning_rate = 0.001\n",
        "epoch = 64\n",
        "batchsize = 64\n",
        "criterion = nn.CrossEntropyLoss()\n",
        "optimizer = torch.optim.SGD(trainingmodel.parameters(), lr=learning_rate)\n",
        "earlystoping = False\n",
        "\n",
        "\n",
        "dataloaders,dataset_sizes,class_names = getdataloader_sizes(batchsize)\n",
        "\n",
        "\n",
        "trained_model = train_model(trainingmodel, criterion, optimizer,epoch,device,earlystoping)"
      ],
      "execution_count": null,
      "outputs": [
        {
          "output_type": "stream",
          "text": [
            "['hello', 'nice', 'teacher', 'eat', 'no', 'happy', 'like', 'orange', 'want', 'deaf']\n",
            "{'train': 378, 'validation': 103, 'test': 92}\n",
            "Epoch 0/63\n",
            "train Loss: 33.9242 Acc: 13.4921\n",
            "validation Loss: 2.4770 Acc: 7.7670\n",
            "\n",
            "Epoch 1/63\n",
            "train Loss: 1.9046 Acc: 47.3545\n",
            "validation Loss: 2.6242 Acc: 7.7670\n",
            "\n",
            "Epoch 2/63\n",
            "train Loss: 1.2678 Acc: 72.4868\n",
            "validation Loss: 2.8641 Acc: 13.5922\n",
            "\n",
            "Epoch 3/63\n",
            "train Loss: 0.9057 Acc: 83.0688\n",
            "validation Loss: 3.0341 Acc: 7.7670\n",
            "\n",
            "Epoch 4/63\n",
            "train Loss: 0.6174 Acc: 92.8571\n",
            "validation Loss: 3.3275 Acc: 15.5340\n",
            "\n",
            "Epoch 5/63\n",
            "train Loss: 0.3959 Acc: 97.3545\n",
            "validation Loss: 3.4500 Acc: 12.6214\n",
            "\n",
            "Epoch 6/63\n",
            "train Loss: 0.2669 Acc: 98.4127\n",
            "validation Loss: 3.6425 Acc: 11.6505\n",
            "\n",
            "Epoch 7/63\n",
            "train Loss: 0.1843 Acc: 99.2063\n",
            "validation Loss: 3.8371 Acc: 11.6505\n",
            "\n",
            "Epoch 8/63\n",
            "train Loss: 0.1328 Acc: 99.2063\n",
            "validation Loss: 3.9911 Acc: 11.6505\n",
            "\n",
            "Epoch 9/63\n",
            "train Loss: 0.0975 Acc: 99.7354\n",
            "validation Loss: 4.0561 Acc: 15.5340\n",
            "\n",
            "Epoch 10/63\n",
            "train Loss: 0.0741 Acc: 100.0000\n",
            "validation Loss: 4.1675 Acc: 14.5631\n",
            "\n",
            "Epoch 11/63\n",
            "train Loss: 0.0590 Acc: 100.0000\n",
            "validation Loss: 4.2571 Acc: 14.5631\n",
            "\n",
            "Epoch 12/63\n",
            "train Loss: 0.0478 Acc: 100.0000\n",
            "validation Loss: 4.3072 Acc: 14.5631\n",
            "\n",
            "Epoch 13/63\n",
            "train Loss: 0.0402 Acc: 100.0000\n",
            "validation Loss: 4.4164 Acc: 14.5631\n",
            "\n",
            "Epoch 14/63\n",
            "train Loss: 0.0339 Acc: 100.0000\n",
            "validation Loss: 4.4523 Acc: 15.5340\n",
            "\n",
            "Epoch 15/63\n",
            "train Loss: 0.0288 Acc: 100.0000\n",
            "validation Loss: 4.5106 Acc: 14.5631\n",
            "\n",
            "Epoch 16/63\n",
            "train Loss: 0.0255 Acc: 100.0000\n",
            "validation Loss: 4.5568 Acc: 14.5631\n",
            "\n",
            "Epoch 17/63\n",
            "train Loss: 0.0226 Acc: 100.0000\n",
            "validation Loss: 4.5975 Acc: 14.5631\n",
            "\n",
            "Epoch 18/63\n",
            "train Loss: 0.0207 Acc: 100.0000\n",
            "validation Loss: 4.6431 Acc: 14.5631\n",
            "\n",
            "Epoch 19/63\n",
            "train Loss: 0.0184 Acc: 100.0000\n",
            "validation Loss: 4.6795 Acc: 15.5340\n",
            "\n",
            "Epoch 20/63\n",
            "train Loss: 0.0169 Acc: 100.0000\n",
            "validation Loss: 4.7205 Acc: 12.6214\n",
            "\n",
            "Epoch 21/63\n",
            "train Loss: 0.0155 Acc: 100.0000\n",
            "validation Loss: 4.7408 Acc: 17.4757\n",
            "\n",
            "Epoch 22/63\n",
            "train Loss: 0.0144 Acc: 100.0000\n",
            "validation Loss: 4.7753 Acc: 14.5631\n",
            "\n",
            "Epoch 23/63\n",
            "train Loss: 0.0133 Acc: 100.0000\n",
            "validation Loss: 4.8151 Acc: 15.5340\n",
            "\n",
            "Epoch 24/63\n",
            "train Loss: 0.0124 Acc: 100.0000\n",
            "validation Loss: 4.8297 Acc: 15.5340\n",
            "\n",
            "Epoch 25/63\n",
            "train Loss: 0.0116 Acc: 100.0000\n",
            "validation Loss: 4.8623 Acc: 15.5340\n",
            "\n",
            "Epoch 26/63\n",
            "train Loss: 0.0109 Acc: 100.0000\n",
            "validation Loss: 4.8839 Acc: 15.5340\n",
            "\n",
            "Epoch 27/63\n",
            "train Loss: 0.0103 Acc: 100.0000\n",
            "validation Loss: 4.9103 Acc: 15.5340\n",
            "\n",
            "Epoch 28/63\n",
            "train Loss: 0.0097 Acc: 100.0000\n",
            "validation Loss: 4.9327 Acc: 15.5340\n",
            "\n",
            "Epoch 29/63\n",
            "train Loss: 0.0092 Acc: 100.0000\n",
            "validation Loss: 4.9559 Acc: 15.5340\n",
            "\n",
            "Epoch 30/63\n",
            "train Loss: 0.0087 Acc: 100.0000\n",
            "validation Loss: 4.9772 Acc: 15.5340\n",
            "\n",
            "Epoch 31/63\n",
            "train Loss: 0.0083 Acc: 100.0000\n",
            "validation Loss: 5.0047 Acc: 15.5340\n",
            "\n",
            "Epoch 32/63\n",
            "train Loss: 0.0079 Acc: 100.0000\n",
            "validation Loss: 5.0196 Acc: 15.5340\n",
            "\n",
            "Epoch 33/63\n",
            "train Loss: 0.0076 Acc: 100.0000\n",
            "validation Loss: 5.0463 Acc: 15.5340\n",
            "\n",
            "Epoch 34/63\n",
            "train Loss: 0.0073 Acc: 100.0000\n",
            "validation Loss: 5.0541 Acc: 15.5340\n",
            "\n",
            "Epoch 35/63\n",
            "train Loss: 0.0070 Acc: 100.0000\n",
            "validation Loss: 5.0723 Acc: 15.5340\n",
            "\n",
            "Epoch 36/63\n",
            "train Loss: 0.0067 Acc: 100.0000\n",
            "validation Loss: 5.0874 Acc: 15.5340\n",
            "\n",
            "Epoch 37/63\n",
            "train Loss: 0.0064 Acc: 100.0000\n",
            "validation Loss: 5.0965 Acc: 15.5340\n",
            "\n",
            "Epoch 38/63\n",
            "train Loss: 0.0062 Acc: 100.0000\n",
            "validation Loss: 5.1192 Acc: 15.5340\n",
            "\n",
            "Epoch 39/63\n",
            "train Loss: 0.0060 Acc: 100.0000\n",
            "validation Loss: 5.1291 Acc: 15.5340\n",
            "\n",
            "Epoch 40/63\n",
            "train Loss: 0.0058 Acc: 100.0000\n",
            "validation Loss: 5.1481 Acc: 15.5340\n",
            "\n",
            "Epoch 41/63\n",
            "train Loss: 0.0056 Acc: 100.0000\n",
            "validation Loss: 5.1609 Acc: 15.5340\n",
            "\n",
            "Epoch 42/63\n",
            "train Loss: 0.0054 Acc: 100.0000\n",
            "validation Loss: 5.1710 Acc: 15.5340\n",
            "\n",
            "Epoch 43/63\n",
            "train Loss: 0.0052 Acc: 100.0000\n",
            "validation Loss: 5.1860 Acc: 15.5340\n",
            "\n",
            "Epoch 44/63\n",
            "train Loss: 0.0051 Acc: 100.0000\n",
            "validation Loss: 5.2015 Acc: 15.5340\n",
            "\n",
            "Epoch 45/63\n",
            "train Loss: 0.0049 Acc: 100.0000\n",
            "validation Loss: 5.2139 Acc: 15.5340\n",
            "\n",
            "Epoch 46/63\n",
            "train Loss: 0.0048 Acc: 100.0000\n",
            "validation Loss: 5.2240 Acc: 15.5340\n",
            "\n",
            "Epoch 47/63\n",
            "train Loss: 0.0046 Acc: 100.0000\n",
            "validation Loss: 5.2305 Acc: 15.5340\n",
            "\n",
            "Epoch 48/63\n",
            "train Loss: 0.0045 Acc: 100.0000\n",
            "validation Loss: 5.2485 Acc: 15.5340\n",
            "\n",
            "Epoch 49/63\n",
            "train Loss: 0.0044 Acc: 100.0000\n",
            "validation Loss: 5.2542 Acc: 15.5340\n",
            "\n",
            "Epoch 50/63\n",
            "train Loss: 0.0043 Acc: 100.0000\n",
            "validation Loss: 5.2652 Acc: 15.5340\n",
            "\n",
            "Epoch 51/63\n",
            "train Loss: 0.0041 Acc: 100.0000\n",
            "validation Loss: 5.2800 Acc: 15.5340\n",
            "\n",
            "Epoch 52/63\n",
            "train Loss: 0.0040 Acc: 100.0000\n",
            "validation Loss: 5.2877 Acc: 15.5340\n",
            "\n",
            "Epoch 53/63\n",
            "train Loss: 0.0039 Acc: 100.0000\n",
            "validation Loss: 5.2957 Acc: 15.5340\n",
            "\n",
            "Epoch 54/63\n",
            "train Loss: 0.0038 Acc: 100.0000\n",
            "validation Loss: 5.3075 Acc: 15.5340\n",
            "\n",
            "Epoch 55/63\n",
            "train Loss: 0.0038 Acc: 100.0000\n",
            "validation Loss: 5.3159 Acc: 15.5340\n",
            "\n",
            "Epoch 56/63\n",
            "train Loss: 0.0037 Acc: 100.0000\n",
            "validation Loss: 5.3256 Acc: 15.5340\n",
            "\n",
            "Epoch 57/63\n",
            "train Loss: 0.0036 Acc: 100.0000\n",
            "validation Loss: 5.3379 Acc: 15.5340\n",
            "\n",
            "Epoch 58/63\n",
            "train Loss: 0.0035 Acc: 100.0000\n",
            "validation Loss: 5.3483 Acc: 15.5340\n",
            "\n",
            "Epoch 59/63\n",
            "train Loss: 0.0034 Acc: 100.0000\n",
            "validation Loss: 5.3531 Acc: 15.5340\n",
            "\n",
            "Epoch 60/63\n",
            "train Loss: 0.0034 Acc: 100.0000\n",
            "validation Loss: 5.3607 Acc: 15.5340\n",
            "\n",
            "Epoch 61/63\n",
            "train Loss: 0.0033 Acc: 100.0000\n",
            "validation Loss: 5.3698 Acc: 15.5340\n",
            "\n",
            "Epoch 62/63\n",
            "train Loss: 0.0032 Acc: 100.0000\n",
            "validation Loss: 5.3781 Acc: 15.5340\n",
            "\n",
            "Epoch 63/63\n",
            "train Loss: 0.0031 Acc: 100.0000\n",
            "validation Loss: 5.3841 Acc: 15.5340\n",
            "\n",
            "Best train Acc: 100.000000\n",
            "Best validation Acc: 17.475728\n"
          ],
          "name": "stdout"
        },
        {
          "output_type": "display_data",
          "data": {
            "image/png": "[encoded data removed]",
            "text/plain": [
              "<Figure size 432x288 with 1 Axes>"
            ]
          },
          "metadata": {
            "tags": [],
            "needs_background": "light"
          }
        },
        {
          "output_type": "display_data",
          "data": {
            "image/png": "[encoded data removed]",
            "text/plain": [
              "<Figure size 432x288 with 1 Axes>"
            ]
          },
          "metadata": {
            "tags": [],
            "needs_background": "light"
          }
        }
      ]
    },
    {
      "cell_type": "code",
      "metadata": {
        "id": "ekrq53K2htxw"
      },
      "source": [
        "def calculateTestAcc(trained_model,dataloaders,dataset_sizes):\n",
        "  confusion_matrixx = torch.zeros(10, 10)\n",
        "  np.set_printoptions(precision=2)\n",
        "  current_phase_correct_outputnumber = 0\n",
        "\n",
        "  with torch.no_grad():\n",
        "    for i, (inputs, classes) in enumerate(dataloaders['test']):\n",
        "        inputs = inputs.to(device)\n",
        "        classes = classes.to(device)\n",
        "        outputs = trained_model(inputs)\n",
        "        _, preds = torch.max(outputs, 1)\n",
        "        current_phase_correct_outputnumber += torch.sum(preds == classes.data)\n",
        "          \n",
        "        for t, p in zip(classes.view(-1), preds.view(-1)):\n",
        "            confusion_matrixx[t.long(), p.long()] += 1\n",
        "   \n",
        "    test_acc = 100*current_phase_correct_outputnumber.double() / dataset_sizes['test']\n",
        "\n",
        "    print('Test Acc: {:4f}'.format(test_acc))\n",
        "    \n",
        "  plt.figure(figsize = (10,10))\n",
        "  plot_confusion_matrix(confusion_matrixx,classes=class_names)\n",
        "  plt.show()"
      ],
      "execution_count": null,
      "outputs": []
    },
    {
      "cell_type": "code",
      "metadata": {
        "id": "WdJ0kP8Jhtz7",
        "outputId": "b29c2c4f-e344-40d5-dc2d-4552dcd29aba",
        "colab": {
          "base_uri": "https://localhost:8080/",
          "height": 602
        }
      },
      "source": [
        "calculateTestAcc(trained_model,dataloaders,dataset_sizes)"
      ],
      "execution_count": null,
      "outputs": [
        {
          "output_type": "stream",
          "text": [
            "Test Acc: 17.391304\n"
          ],
          "name": "stdout"
        },
        {
          "output_type": "display_data",
          "data": {
            "image/png": "[encoded data removed]",
            "text/plain": [
              "<Figure size 720x720 with 2 Axes>"
            ]
          },
          "metadata": {
            "tags": [],
            "needs_background": "light"
          }
        }
      ]
    },
    {
      "cell_type": "code",
      "metadata": {
        "id": "eZQ5e47ixdhb"
      },
      "source": [
        ""
      ],
      "execution_count": null,
      "outputs": []
    }
  ]
}